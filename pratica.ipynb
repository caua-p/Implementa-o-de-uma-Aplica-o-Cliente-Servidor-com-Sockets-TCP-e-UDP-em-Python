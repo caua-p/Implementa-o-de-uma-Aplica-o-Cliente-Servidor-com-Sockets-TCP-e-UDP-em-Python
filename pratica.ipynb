{
  "cells": [
    {
      "cell_type": "markdown",
      "metadata": {
        "id": "OvMemVCgGjgm"
      },
      "source": [
        "# 📊 Probabilidade e Estatística Aplicada à Avaliação de Desempenho\n",
        "\n",
        "Este notebook foi construído a partir de exemplos práticos em Python, utilizando dados reais e simulados.\n",
        "\n",
        "**Agenda:**\n",
        "- [Definições e Conceitos](#1-definições-e-conceitos)\n",
        "- [Tipos de Estatísticas](#2-tipos-de-estatísticas)\n",
        "- [Medidas Estatísticas](#3-medidas-estatísticas)\n",
        "- [Visualizações: Histograma e Boxplot](#4-visualizações)\n",
        "- [Distribuições de Probabilidade](#5-distribuições-de-probabilidade)\n",
        "- [Processo Estocástico](#6-processo-estocástico)\n",
        "- [Aplicações em Redes de Computadores](#7-aplicações-em-redes-de-computadores)\n"
      ]
    },
    {
      "cell_type": "markdown",
      "metadata": {
        "id": "RxJirdcpGjgo"
      },
      "source": [
        "## 1. Definições e Conceitos\n",
        "\n",
        "* Estatística\n",
        "\t* É uma ciência baseada na Teoria da Probabilidade, cujo o objetivo principal é nos auxiliar a tomar decisões ou tirar conclusões em situações de incerteza, a partir dos dados.\n",
        "\t* O objetivo é transformar dados brutos em conhecimento\n",
        "* População\n",
        "\t* É uma coleção completa de todos os elementos a serem estudados e que possuem características gerais comuns.\n",
        "\t* Observação: A população deve ser bem definida.\n",
        "* Amostra\n",
        "\t* É um subconjunto de membros selecionados de uma população.\n",
        "* Variável\n",
        "\t* Qualquer característica de interesse associada aos elementos de uma população.\n",
        "* Espaço Amostral\n",
        "\t* O conjunto de todos os possíveis resultados de um experimento.\n",
        "* Evento\n",
        "\t* O resultado de um experimento (um subconjunto do espaço amostral)\n",
        "* Probabilidade\n",
        "\t* Uma medida que tem valor entre 0 e 1 para cada evento possível.\n",
        "\t* É vista como uma quantificação para frequência de ocorrência de um evento"
      ]
    },
    {
      "cell_type": "code",
      "execution_count": 7,
      "metadata": {
        "colab": {
          "base_uri": "https://localhost:8080/",
          "height": 206
        },
        "id": "UubGsG26Gjgq",
        "outputId": "c19e135c-593f-47f8-df74-e08ae497b766"
      },
      "outputs": [
        {
          "output_type": "execute_result",
          "data": {
            "text/plain": [
              "  species     island  bill_length_mm  bill_depth_mm  flipper_length_mm  \\\n",
              "0  Adelie  Torgersen            39.1           18.7              181.0   \n",
              "1  Adelie  Torgersen            39.5           17.4              186.0   \n",
              "2  Adelie  Torgersen            40.3           18.0              195.0   \n",
              "4  Adelie  Torgersen            36.7           19.3              193.0   \n",
              "5  Adelie  Torgersen            39.3           20.6              190.0   \n",
              "\n",
              "   body_mass_g     sex  \n",
              "0       3750.0    Male  \n",
              "1       3800.0  Female  \n",
              "2       3250.0  Female  \n",
              "4       3450.0  Female  \n",
              "5       3650.0    Male  "
            ],
            "text/html": [
              "\n",
              "  <div id=\"df-b5c11021-97e8-497f-a853-aa576b5e8e11\" class=\"colab-df-container\">\n",
              "    <div>\n",
              "<style scoped>\n",
              "    .dataframe tbody tr th:only-of-type {\n",
              "        vertical-align: middle;\n",
              "    }\n",
              "\n",
              "    .dataframe tbody tr th {\n",
              "        vertical-align: top;\n",
              "    }\n",
              "\n",
              "    .dataframe thead th {\n",
              "        text-align: right;\n",
              "    }\n",
              "</style>\n",
              "<table border=\"1\" class=\"dataframe\">\n",
              "  <thead>\n",
              "    <tr style=\"text-align: right;\">\n",
              "      <th></th>\n",
              "      <th>species</th>\n",
              "      <th>island</th>\n",
              "      <th>bill_length_mm</th>\n",
              "      <th>bill_depth_mm</th>\n",
              "      <th>flipper_length_mm</th>\n",
              "      <th>body_mass_g</th>\n",
              "      <th>sex</th>\n",
              "    </tr>\n",
              "  </thead>\n",
              "  <tbody>\n",
              "    <tr>\n",
              "      <th>0</th>\n",
              "      <td>Adelie</td>\n",
              "      <td>Torgersen</td>\n",
              "      <td>39.1</td>\n",
              "      <td>18.7</td>\n",
              "      <td>181.0</td>\n",
              "      <td>3750.0</td>\n",
              "      <td>Male</td>\n",
              "    </tr>\n",
              "    <tr>\n",
              "      <th>1</th>\n",
              "      <td>Adelie</td>\n",
              "      <td>Torgersen</td>\n",
              "      <td>39.5</td>\n",
              "      <td>17.4</td>\n",
              "      <td>186.0</td>\n",
              "      <td>3800.0</td>\n",
              "      <td>Female</td>\n",
              "    </tr>\n",
              "    <tr>\n",
              "      <th>2</th>\n",
              "      <td>Adelie</td>\n",
              "      <td>Torgersen</td>\n",
              "      <td>40.3</td>\n",
              "      <td>18.0</td>\n",
              "      <td>195.0</td>\n",
              "      <td>3250.0</td>\n",
              "      <td>Female</td>\n",
              "    </tr>\n",
              "    <tr>\n",
              "      <th>4</th>\n",
              "      <td>Adelie</td>\n",
              "      <td>Torgersen</td>\n",
              "      <td>36.7</td>\n",
              "      <td>19.3</td>\n",
              "      <td>193.0</td>\n",
              "      <td>3450.0</td>\n",
              "      <td>Female</td>\n",
              "    </tr>\n",
              "    <tr>\n",
              "      <th>5</th>\n",
              "      <td>Adelie</td>\n",
              "      <td>Torgersen</td>\n",
              "      <td>39.3</td>\n",
              "      <td>20.6</td>\n",
              "      <td>190.0</td>\n",
              "      <td>3650.0</td>\n",
              "      <td>Male</td>\n",
              "    </tr>\n",
              "  </tbody>\n",
              "</table>\n",
              "</div>\n",
              "    <div class=\"colab-df-buttons\">\n",
              "\n",
              "  <div class=\"colab-df-container\">\n",
              "    <button class=\"colab-df-convert\" onclick=\"convertToInteractive('df-b5c11021-97e8-497f-a853-aa576b5e8e11')\"\n",
              "            title=\"Convert this dataframe to an interactive table.\"\n",
              "            style=\"display:none;\">\n",
              "\n",
              "  <svg xmlns=\"http://www.w3.org/2000/svg\" height=\"24px\" viewBox=\"0 -960 960 960\">\n",
              "    <path d=\"M120-120v-720h720v720H120Zm60-500h600v-160H180v160Zm220 220h160v-160H400v160Zm0 220h160v-160H400v160ZM180-400h160v-160H180v160Zm440 0h160v-160H620v160ZM180-180h160v-160H180v160Zm440 0h160v-160H620v160Z\"/>\n",
              "  </svg>\n",
              "    </button>\n",
              "\n",
              "  <style>\n",
              "    .colab-df-container {\n",
              "      display:flex;\n",
              "      gap: 12px;\n",
              "    }\n",
              "\n",
              "    .colab-df-convert {\n",
              "      background-color: #E8F0FE;\n",
              "      border: none;\n",
              "      border-radius: 50%;\n",
              "      cursor: pointer;\n",
              "      display: none;\n",
              "      fill: #1967D2;\n",
              "      height: 32px;\n",
              "      padding: 0 0 0 0;\n",
              "      width: 32px;\n",
              "    }\n",
              "\n",
              "    .colab-df-convert:hover {\n",
              "      background-color: #E2EBFA;\n",
              "      box-shadow: 0px 1px 2px rgba(60, 64, 67, 0.3), 0px 1px 3px 1px rgba(60, 64, 67, 0.15);\n",
              "      fill: #174EA6;\n",
              "    }\n",
              "\n",
              "    .colab-df-buttons div {\n",
              "      margin-bottom: 4px;\n",
              "    }\n",
              "\n",
              "    [theme=dark] .colab-df-convert {\n",
              "      background-color: #3B4455;\n",
              "      fill: #D2E3FC;\n",
              "    }\n",
              "\n",
              "    [theme=dark] .colab-df-convert:hover {\n",
              "      background-color: #434B5C;\n",
              "      box-shadow: 0px 1px 3px 1px rgba(0, 0, 0, 0.15);\n",
              "      filter: drop-shadow(0px 1px 2px rgba(0, 0, 0, 0.3));\n",
              "      fill: #FFFFFF;\n",
              "    }\n",
              "  </style>\n",
              "\n",
              "    <script>\n",
              "      const buttonEl =\n",
              "        document.querySelector('#df-b5c11021-97e8-497f-a853-aa576b5e8e11 button.colab-df-convert');\n",
              "      buttonEl.style.display =\n",
              "        google.colab.kernel.accessAllowed ? 'block' : 'none';\n",
              "\n",
              "      async function convertToInteractive(key) {\n",
              "        const element = document.querySelector('#df-b5c11021-97e8-497f-a853-aa576b5e8e11');\n",
              "        const dataTable =\n",
              "          await google.colab.kernel.invokeFunction('convertToInteractive',\n",
              "                                                    [key], {});\n",
              "        if (!dataTable) return;\n",
              "\n",
              "        const docLinkHtml = 'Like what you see? Visit the ' +\n",
              "          '<a target=\"_blank\" href=https://colab.research.google.com/notebooks/data_table.ipynb>data table notebook</a>'\n",
              "          + ' to learn more about interactive tables.';\n",
              "        element.innerHTML = '';\n",
              "        dataTable['output_type'] = 'display_data';\n",
              "        await google.colab.output.renderOutput(dataTable, element);\n",
              "        const docLink = document.createElement('div');\n",
              "        docLink.innerHTML = docLinkHtml;\n",
              "        element.appendChild(docLink);\n",
              "      }\n",
              "    </script>\n",
              "  </div>\n",
              "\n",
              "\n",
              "    <div id=\"df-7d31c3b4-1eb9-47df-9e97-38601100c501\">\n",
              "      <button class=\"colab-df-quickchart\" onclick=\"quickchart('df-7d31c3b4-1eb9-47df-9e97-38601100c501')\"\n",
              "                title=\"Suggest charts\"\n",
              "                style=\"display:none;\">\n",
              "\n",
              "<svg xmlns=\"http://www.w3.org/2000/svg\" height=\"24px\"viewBox=\"0 0 24 24\"\n",
              "     width=\"24px\">\n",
              "    <g>\n",
              "        <path d=\"M19 3H5c-1.1 0-2 .9-2 2v14c0 1.1.9 2 2 2h14c1.1 0 2-.9 2-2V5c0-1.1-.9-2-2-2zM9 17H7v-7h2v7zm4 0h-2V7h2v10zm4 0h-2v-4h2v4z\"/>\n",
              "    </g>\n",
              "</svg>\n",
              "      </button>\n",
              "\n",
              "<style>\n",
              "  .colab-df-quickchart {\n",
              "      --bg-color: #E8F0FE;\n",
              "      --fill-color: #1967D2;\n",
              "      --hover-bg-color: #E2EBFA;\n",
              "      --hover-fill-color: #174EA6;\n",
              "      --disabled-fill-color: #AAA;\n",
              "      --disabled-bg-color: #DDD;\n",
              "  }\n",
              "\n",
              "  [theme=dark] .colab-df-quickchart {\n",
              "      --bg-color: #3B4455;\n",
              "      --fill-color: #D2E3FC;\n",
              "      --hover-bg-color: #434B5C;\n",
              "      --hover-fill-color: #FFFFFF;\n",
              "      --disabled-bg-color: #3B4455;\n",
              "      --disabled-fill-color: #666;\n",
              "  }\n",
              "\n",
              "  .colab-df-quickchart {\n",
              "    background-color: var(--bg-color);\n",
              "    border: none;\n",
              "    border-radius: 50%;\n",
              "    cursor: pointer;\n",
              "    display: none;\n",
              "    fill: var(--fill-color);\n",
              "    height: 32px;\n",
              "    padding: 0;\n",
              "    width: 32px;\n",
              "  }\n",
              "\n",
              "  .colab-df-quickchart:hover {\n",
              "    background-color: var(--hover-bg-color);\n",
              "    box-shadow: 0 1px 2px rgba(60, 64, 67, 0.3), 0 1px 3px 1px rgba(60, 64, 67, 0.15);\n",
              "    fill: var(--button-hover-fill-color);\n",
              "  }\n",
              "\n",
              "  .colab-df-quickchart-complete:disabled,\n",
              "  .colab-df-quickchart-complete:disabled:hover {\n",
              "    background-color: var(--disabled-bg-color);\n",
              "    fill: var(--disabled-fill-color);\n",
              "    box-shadow: none;\n",
              "  }\n",
              "\n",
              "  .colab-df-spinner {\n",
              "    border: 2px solid var(--fill-color);\n",
              "    border-color: transparent;\n",
              "    border-bottom-color: var(--fill-color);\n",
              "    animation:\n",
              "      spin 1s steps(1) infinite;\n",
              "  }\n",
              "\n",
              "  @keyframes spin {\n",
              "    0% {\n",
              "      border-color: transparent;\n",
              "      border-bottom-color: var(--fill-color);\n",
              "      border-left-color: var(--fill-color);\n",
              "    }\n",
              "    20% {\n",
              "      border-color: transparent;\n",
              "      border-left-color: var(--fill-color);\n",
              "      border-top-color: var(--fill-color);\n",
              "    }\n",
              "    30% {\n",
              "      border-color: transparent;\n",
              "      border-left-color: var(--fill-color);\n",
              "      border-top-color: var(--fill-color);\n",
              "      border-right-color: var(--fill-color);\n",
              "    }\n",
              "    40% {\n",
              "      border-color: transparent;\n",
              "      border-right-color: var(--fill-color);\n",
              "      border-top-color: var(--fill-color);\n",
              "    }\n",
              "    60% {\n",
              "      border-color: transparent;\n",
              "      border-right-color: var(--fill-color);\n",
              "    }\n",
              "    80% {\n",
              "      border-color: transparent;\n",
              "      border-right-color: var(--fill-color);\n",
              "      border-bottom-color: var(--fill-color);\n",
              "    }\n",
              "    90% {\n",
              "      border-color: transparent;\n",
              "      border-bottom-color: var(--fill-color);\n",
              "    }\n",
              "  }\n",
              "</style>\n",
              "\n",
              "      <script>\n",
              "        async function quickchart(key) {\n",
              "          const quickchartButtonEl =\n",
              "            document.querySelector('#' + key + ' button');\n",
              "          quickchartButtonEl.disabled = true;  // To prevent multiple clicks.\n",
              "          quickchartButtonEl.classList.add('colab-df-spinner');\n",
              "          try {\n",
              "            const charts = await google.colab.kernel.invokeFunction(\n",
              "                'suggestCharts', [key], {});\n",
              "          } catch (error) {\n",
              "            console.error('Error during call to suggestCharts:', error);\n",
              "          }\n",
              "          quickchartButtonEl.classList.remove('colab-df-spinner');\n",
              "          quickchartButtonEl.classList.add('colab-df-quickchart-complete');\n",
              "        }\n",
              "        (() => {\n",
              "          let quickchartButtonEl =\n",
              "            document.querySelector('#df-7d31c3b4-1eb9-47df-9e97-38601100c501 button');\n",
              "          quickchartButtonEl.style.display =\n",
              "            google.colab.kernel.accessAllowed ? 'block' : 'none';\n",
              "        })();\n",
              "      </script>\n",
              "    </div>\n",
              "\n",
              "    </div>\n",
              "  </div>\n"
            ],
            "application/vnd.google.colaboratory.intrinsic+json": {
              "type": "dataframe",
              "variable_name": "df",
              "summary": "{\n  \"name\": \"df\",\n  \"rows\": 333,\n  \"fields\": [\n    {\n      \"column\": \"species\",\n      \"properties\": {\n        \"dtype\": \"category\",\n        \"num_unique_values\": 3,\n        \"samples\": [\n          \"Adelie\",\n          \"Chinstrap\",\n          \"Gentoo\"\n        ],\n        \"semantic_type\": \"\",\n        \"description\": \"\"\n      }\n    },\n    {\n      \"column\": \"island\",\n      \"properties\": {\n        \"dtype\": \"category\",\n        \"num_unique_values\": 3,\n        \"samples\": [\n          \"Torgersen\",\n          \"Biscoe\",\n          \"Dream\"\n        ],\n        \"semantic_type\": \"\",\n        \"description\": \"\"\n      }\n    },\n    {\n      \"column\": \"bill_length_mm\",\n      \"properties\": {\n        \"dtype\": \"number\",\n        \"std\": 5.468668342647562,\n        \"min\": 32.1,\n        \"max\": 59.6,\n        \"num_unique_values\": 163,\n        \"samples\": [\n          59.6,\n          48.1,\n          46.3\n        ],\n        \"semantic_type\": \"\",\n        \"description\": \"\"\n      }\n    },\n    {\n      \"column\": \"bill_depth_mm\",\n      \"properties\": {\n        \"dtype\": \"number\",\n        \"std\": 1.9692354633199,\n        \"min\": 13.1,\n        \"max\": 21.5,\n        \"num_unique_values\": 79,\n        \"samples\": [\n          19.5,\n          18.7,\n          17.0\n        ],\n        \"semantic_type\": \"\",\n        \"description\": \"\"\n      }\n    },\n    {\n      \"column\": \"flipper_length_mm\",\n      \"properties\": {\n        \"dtype\": \"number\",\n        \"std\": 14.015765288287882,\n        \"min\": 172.0,\n        \"max\": 231.0,\n        \"num_unique_values\": 54,\n        \"samples\": [\n          188.0,\n          231.0,\n          224.0\n        ],\n        \"semantic_type\": \"\",\n        \"description\": \"\"\n      }\n    },\n    {\n      \"column\": \"body_mass_g\",\n      \"properties\": {\n        \"dtype\": \"number\",\n        \"std\": 805.2158019428966,\n        \"min\": 2700.0,\n        \"max\": 6300.0,\n        \"num_unique_values\": 93,\n        \"samples\": [\n          4725.0,\n          3100.0,\n          3575.0\n        ],\n        \"semantic_type\": \"\",\n        \"description\": \"\"\n      }\n    },\n    {\n      \"column\": \"sex\",\n      \"properties\": {\n        \"dtype\": \"category\",\n        \"num_unique_values\": 2,\n        \"samples\": [\n          \"Female\",\n          \"Male\"\n        ],\n        \"semantic_type\": \"\",\n        \"description\": \"\"\n      }\n    }\n  ]\n}"
            }
          },
          "metadata": {},
          "execution_count": 7
        }
      ],
      "source": [
        "import pandas as pd\n",
        "import seaborn as sns\n",
        "\n",
        "# Exemplo com dataset real: pinguins (altura, peso, espécie)\n",
        "df = sns.load_dataset('penguins').dropna()\n",
        "df.head()"
      ]
    },
    {
      "cell_type": "markdown",
      "metadata": {
        "id": "tonCF_vfGjgq"
      },
      "source": [
        "## 2. Tipos de Estatísticas\n",
        "\n",
        "### Estatística Descritiva\n",
        "\n",
        "* Fornece um **resumo dos dados** de forma numérica ou gráfica.\n",
        "* Exemplo\n",
        "\t* O gerente de um restaurante *fast-food* registrou os tempos de espera dos clientes no horário de almoço durante uma semana e sumarizou os dados"
      ]
    },
    {
      "cell_type": "code",
      "execution_count": 8,
      "metadata": {
        "colab": {
          "base_uri": "https://localhost:8080/"
        },
        "id": "hKieUURmGjgr",
        "outputId": "e2acded4-b44f-477e-b915-d8410353668b"
      },
      "outputs": [
        {
          "output_type": "stream",
          "name": "stdout",
          "text": [
            "Média: 5.7368421052631575\n",
            "Mediana: 6\n",
            "Moda: 5\n"
          ]
        }
      ],
      "source": [
        "import statistics\n",
        "\n",
        "espera = [3,5,7,4,6,8,10,2,5,6,7,4,8,9,3,4,6,7,5]\n",
        "\n",
        "print(\"Média:\", statistics.mean(espera))\n",
        "print(\"Mediana:\", statistics.median(espera))\n",
        "print(\"Moda:\", statistics.mode(espera))"
      ]
    },
    {
      "cell_type": "markdown",
      "metadata": {
        "id": "QjOgTTP-Gjgr"
      },
      "source": [
        "### Estatística Inferencial\n",
        "\n",
        "* Usa uma amostra aleatória dos dados coletados de uma população para descrever e fazer inferências sobre a população.\n",
        "* As estatísticas inferenciais são valiosas quando não é conveniente ou possível examinar cada membro de uma população inteira.\n",
        "* Exemplo:\n",
        "\t* não seria prático medir o diâmetro de todos os pregos fabricados em uma fábrica ...\n",
        "\t* mas é possível medir o diâmetro de uma **amostra representativa** de pregos e usar essas informações para fazer generalizações sobre os diâmetros dos pregos produzidos.\n",
        "\n",
        "### Estatística Computacional\n",
        "\n",
        "* A estatística computacional é a interface entre estatística e ciência da computação.\n",
        "* Como nas estatísticas tradicionais, o objetivo é transformar dados brutos em conhecimento, mas o foco está em métodos estatísticos intensivos usando **algoritmos eficientes em computadores**.\n",
        "* Normalmente com tamanhos de amostra muito grandes e conjuntos de dados não homogêneos."
      ]
    },
    {
      "cell_type": "markdown",
      "metadata": {
        "id": "va7LNj4eGjgr"
      },
      "source": [
        "## 3. Medidas Estatísticas\n",
        "\n",
        "* Medidas de Posição\n",
        "\t* Moda, Média, Mediana, Percentis, Quartis.\n",
        "\t* Moda, Média, Mediana:\n",
        "\t\t* Apontam um **valor central** e são usadas para representar todo o conjunto\n",
        "\t\t* São chamadas de medidas de Tendência Central\n",
        "* Medidas de Dispersão\n",
        "\t* Amplitude, Distância Interquartil, Variância, Desvio Padrão, Coeficiente de Variação\n",
        "\n",
        "### Moda\n",
        "\n",
        "* Valor que aparece com mais frequência em um conjunto de dados\n",
        "* Exemplo: qual é a moda dos pesos dos pinguins"
      ]
    },
    {
      "cell_type": "code",
      "execution_count": 9,
      "metadata": {
        "colab": {
          "base_uri": "https://localhost:8080/",
          "height": 259
        },
        "id": "oz_5czEhGjgs",
        "outputId": "84425e49-7839-4ca2-d99f-0561f6602da5"
      },
      "outputs": [
        {
          "output_type": "stream",
          "name": "stdout",
          "text": [
            "Moda: 3800.0\n"
          ]
        },
        {
          "output_type": "execute_result",
          "data": {
            "text/plain": [
              "0    3750.0\n",
              "1    3800.0\n",
              "2    3250.0\n",
              "4    3450.0\n",
              "5    3650.0\n",
              "Name: body_mass_g, dtype: float64"
            ],
            "text/html": [
              "<div>\n",
              "<style scoped>\n",
              "    .dataframe tbody tr th:only-of-type {\n",
              "        vertical-align: middle;\n",
              "    }\n",
              "\n",
              "    .dataframe tbody tr th {\n",
              "        vertical-align: top;\n",
              "    }\n",
              "\n",
              "    .dataframe thead th {\n",
              "        text-align: right;\n",
              "    }\n",
              "</style>\n",
              "<table border=\"1\" class=\"dataframe\">\n",
              "  <thead>\n",
              "    <tr style=\"text-align: right;\">\n",
              "      <th></th>\n",
              "      <th>body_mass_g</th>\n",
              "    </tr>\n",
              "  </thead>\n",
              "  <tbody>\n",
              "    <tr>\n",
              "      <th>0</th>\n",
              "      <td>3750.0</td>\n",
              "    </tr>\n",
              "    <tr>\n",
              "      <th>1</th>\n",
              "      <td>3800.0</td>\n",
              "    </tr>\n",
              "    <tr>\n",
              "      <th>2</th>\n",
              "      <td>3250.0</td>\n",
              "    </tr>\n",
              "    <tr>\n",
              "      <th>4</th>\n",
              "      <td>3450.0</td>\n",
              "    </tr>\n",
              "    <tr>\n",
              "      <th>5</th>\n",
              "      <td>3650.0</td>\n",
              "    </tr>\n",
              "  </tbody>\n",
              "</table>\n",
              "</div><br><label><b>dtype:</b> float64</label>"
            ]
          },
          "metadata": {},
          "execution_count": 9
        }
      ],
      "source": [
        "peso = df['body_mass_g']\n",
        "print(\"Moda:\", statistics.mode(peso))\n",
        "peso.head()"
      ]
    },
    {
      "cell_type": "markdown",
      "metadata": {
        "id": "JxhdeWmeGjgs"
      },
      "source": [
        "### Média aritmétrica simpes\n",
        "\n",
        "* Fórmula\n",
        "\n",
        "$$ \\overline{x} = \\dfrac{x_1 + x_2 + \\dots + x_n}{n} = \\dfrac{1}{n} \\sum_{i=1}^{n} x_i $$\n",
        "\n",
        "* Exemplo: média aritmétrica do tamanho dos pinguins"
      ]
    },
    {
      "cell_type": "code",
      "execution_count": 10,
      "metadata": {
        "colab": {
          "base_uri": "https://localhost:8080/",
          "height": 259
        },
        "id": "EzEcLTRcGjgt",
        "outputId": "16e9bb12-9fae-45b9-ac89-7ef80c67290a"
      },
      "outputs": [
        {
          "output_type": "stream",
          "name": "stdout",
          "text": [
            "Média: 190.0\n"
          ]
        },
        {
          "output_type": "execute_result",
          "data": {
            "text/plain": [
              "0    181.0\n",
              "1    186.0\n",
              "2    195.0\n",
              "4    193.0\n",
              "5    190.0\n",
              "Name: flipper_length_mm, dtype: float64"
            ],
            "text/html": [
              "<div>\n",
              "<style scoped>\n",
              "    .dataframe tbody tr th:only-of-type {\n",
              "        vertical-align: middle;\n",
              "    }\n",
              "\n",
              "    .dataframe tbody tr th {\n",
              "        vertical-align: top;\n",
              "    }\n",
              "\n",
              "    .dataframe thead th {\n",
              "        text-align: right;\n",
              "    }\n",
              "</style>\n",
              "<table border=\"1\" class=\"dataframe\">\n",
              "  <thead>\n",
              "    <tr style=\"text-align: right;\">\n",
              "      <th></th>\n",
              "      <th>flipper_length_mm</th>\n",
              "    </tr>\n",
              "  </thead>\n",
              "  <tbody>\n",
              "    <tr>\n",
              "      <th>0</th>\n",
              "      <td>181.0</td>\n",
              "    </tr>\n",
              "    <tr>\n",
              "      <th>1</th>\n",
              "      <td>186.0</td>\n",
              "    </tr>\n",
              "    <tr>\n",
              "      <th>2</th>\n",
              "      <td>195.0</td>\n",
              "    </tr>\n",
              "    <tr>\n",
              "      <th>4</th>\n",
              "      <td>193.0</td>\n",
              "    </tr>\n",
              "    <tr>\n",
              "      <th>5</th>\n",
              "      <td>190.0</td>\n",
              "    </tr>\n",
              "  </tbody>\n",
              "</table>\n",
              "</div><br><label><b>dtype:</b> float64</label>"
            ]
          },
          "metadata": {},
          "execution_count": 10
        }
      ],
      "source": [
        "tamanho = df['flipper_length_mm']\n",
        "print(\"Média:\", statistics.mode(tamanho))\n",
        "tamanho.head()"
      ]
    },
    {
      "cell_type": "markdown",
      "metadata": {
        "id": "yt08DnY4Gjgt"
      },
      "source": [
        "### Mediana\n",
        "\n",
        "* Valor que ocupa a posição central de um conjunto de N dados **ordenados**\n",
        "    * Posição da mediana: $(n+1)/2$\n",
        "* Se houver uma quantidade **ímpar**, a mediana será o **valor central** do conjunto\n",
        "* Se a quantidade de valores for um número **par**, a mediana será a média aritmética dos dois números centrais\n",
        "* Exemplos:\n",
        "\n",
        "$$ A=\\{10, 12, 13, 14, 14, 15, 15, 18, 19, 20\\} \\rightarrow M_d(A) = \\dfrac{15+15}{2} = 14.5 $$\n",
        "\n",
        "$$ B=\\{10, 12, 13, 14, 14, 15, 18, 19, 20\\} \\rightarrow M_d(B) = 14 $$"
      ]
    },
    {
      "cell_type": "code",
      "execution_count": 11,
      "metadata": {
        "colab": {
          "base_uri": "https://localhost:8080/"
        },
        "id": "d6s-vRWQGjgu",
        "outputId": "21f20e4b-fd73-4d65-d6c2-afc762063717"
      },
      "outputs": [
        {
          "output_type": "stream",
          "name": "stdout",
          "text": [
            "Mediana: 197.0\n"
          ]
        }
      ],
      "source": [
        "print(\"Mediana:\", statistics.median(tamanho))"
      ]
    },
    {
      "cell_type": "markdown",
      "metadata": {
        "id": "HWjhQdaIGjgu"
      },
      "source": [
        "* Outra forma de calcular os dados, usando a biblioteca **numpy**"
      ]
    },
    {
      "cell_type": "code",
      "execution_count": 12,
      "metadata": {
        "colab": {
          "base_uri": "https://localhost:8080/"
        },
        "id": "Jfc_VtwfGjgv",
        "outputId": "c5fd55eb-708c-4d56-9390-9e90c491b2eb"
      },
      "outputs": [
        {
          "output_type": "stream",
          "name": "stdout",
          "text": [
            "Média: 200.96696696696696\n",
            "Desvio Padrão: 13.994704772576718\n",
            "Variância: 195.85176167158158\n"
          ]
        }
      ],
      "source": [
        "import numpy as np\n",
        "\n",
        "print(\"Média:\", np.mean(tamanho))\n",
        "print(\"Desvio Padrão:\", np.std(tamanho))\n",
        "print(\"Variância:\", np.var(tamanho))"
      ]
    },
    {
      "cell_type": "markdown",
      "metadata": {
        "id": "1Mr6topuGjgv"
      },
      "source": [
        "## 4. Visualizações\n",
        "\n",
        "(TODO) Elabore exemplos de visualização dos dados com histograma e boxplot"
      ]
    },
    {
      "cell_type": "markdown",
      "source": [],
      "metadata": {
        "id": "YiNKF1cPNHtH"
      }
    },
    {
      "cell_type": "code",
      "metadata": {
        "colab": {
          "base_uri": "https://localhost:8080/",
          "height": 928
        },
        "id": "81325c6e",
        "outputId": "e9b1a5c8-b5d4-4869-ef64-66127298f761"
      },
      "source": [
        "import matplotlib.pyplot as plt\n",
        "import seaborn as sns\n",
        "\n",
        "# Histograma do comprimento da nadadeira\n",
        "sns.histplot(data=df, x='flipper_length_mm', kde=True)\n",
        "plt.title('Distribuição do Comprimento da Nadadeira dos Pinguins')\n",
        "plt.xlabel('Comprimento da Nadadeira (mm)')\n",
        "plt.ylabel('Frequência')\n",
        "plt.show()\n",
        "\n",
        "# Boxplot da massa corporal por espécie\n",
        "sns.boxplot(data=df, x='species', y='body_mass_g')\n",
        "plt.title('Distribuição da Massa Corporal dos Pinguins por Espécie')\n",
        "plt.xlabel('Espécie')\n",
        "plt.ylabel('Massa Corporal (g)')\n",
        "plt.show()"
      ],
      "execution_count": 13,
      "outputs": [
        {
          "output_type": "display_data",
          "data": {
            "text/plain": [
              "<Figure size 640x480 with 1 Axes>"
            ],
            "image/png": "[encoded data removed]"
          },
          "metadata": {}
        },
        {
          "output_type": "display_data",
          "data": {
            "text/plain": [
              "<Figure size 640x480 with 1 Axes>"
            ],
            "image/png": "[encoded data removed]"
          },
          "metadata": {}
        }
      ]
    },
    {
      "cell_type": "markdown",
      "metadata": {
        "id": "PD9v6QGjGjgv"
      },
      "source": [
        "## 5. Distribuições de Probabilidade\n",
        "\n",
        "(TODO) Elabore exemplos de distribuições de probabilidade no Python, com os respectivos gráficos"
      ]
    },
    {
      "cell_type": "code",
      "metadata": {
        "id": "92f83b51"
      },
      "source": [
        "import numpy as np\n",
        "import matplotlib.pyplot as plt\n",
        "from scipy.stats import binom, norm, poisson\n",
        "\n",
        "# Exemplo de Distribuição Binomial\n",
        "n = 10  # número de tentativas\n",
        "p = 0.5 # probabilidade de sucesso\n",
        "x_binom = np.arange(0, n + 1)\n",
        "binomial_prob = binom.pmf(x_binom, n, p)\n",
        "\n",
        "plt.figure(figsize=(10, 6))\n",
        "plt.bar(x_binom, binomial_prob)\n",
        "plt.title('Distribuição Binomial (n=10, p=0.5)')\n",
        "plt.xlabel('Número de Sucessos')\n",
        "plt.ylabel('Probabilidade')\n",
        "plt.show()\n",
        "\n",
        "# Exemplo de Distribuição Normal\n",
        "mu_norm = 0    # média\n",
        "sigma_norm = 1 # desvio padrão\n",
        "x_norm = np.linspace(mu_norm - 3*sigma_norm, mu_norm + 3*sigma_norm, 100)\n",
        "normal_prob = norm.pdf(x_norm, mu_norm, sigma_norm)\n",
        "\n",
        "plt.figure(figsize=(10, 6))\n",
        "plt.plot(x_norm, normal_prob)\n",
        "plt.title('Distribuição Normal (mu=0, sigma=1)')\n",
        "plt.xlabel('Valor')\n",
        "plt.ylabel('Densidade de Probabilidade')\n",
        "plt.grid(True)\n",
        "plt.show()\n",
        "\n",
        "# Exemplo de Distribuição de Poisson\n",
        "lambda_poisson = 3 # taxa média de ocorrências\n",
        "x_poisson = np.arange(0, 10) # range de valores para o número de ocorrências\n",
        "poisson_prob = poisson.pmf(x_poisson, lambda_poisson)\n",
        "\n",
        "plt.figure(figsize=(10, 6))\n",
        "plt.bar(x_poisson, poisson_prob)\n",
        "plt.title('Distribuição de Poisson (lambda=3)')\n",
        "plt.xlabel('Número de Ocorrências')\n",
        "plt.ylabel('Probabilidade')\n",
        "plt.show()"
      ],
      "execution_count": null,
      "outputs": []
    },
    {
      "cell_type": "markdown",
      "metadata": {
        "id": "1mYSEAC9Gjgv"
      },
      "source": [
        "## 6. Processo Estocástico\n",
        "\n",
        "(TODO) Elabore um exemplo prático de processo estocástico e demonstre o comportamento da variável aleatória"
      ]
    },
    {
      "cell_type": "code",
      "metadata": {
        "id": "ae6dd43c"
      },
      "source": [
        "import random\n",
        "import matplotlib.pyplot as plt\n",
        "\n",
        "# Exemplo: Random Walk (Caminhada Aleatória)\n",
        "# Simula o movimento de uma partícula que dá um passo aleatório para frente ou para trás a cada unidade de tempo.\n",
        "\n",
        "passos = 100  # Número de passos na caminhada aleatória\n",
        "posicao_inicial = 0\n",
        "posicoes = [posicao_inicial]\n",
        "\n",
        "for _ in range(passos):\n",
        "    passo = random.choice([-1, 1]) # Escolhe aleatoriamente entre -1 (para trás) e 1 (para frente)\n",
        "    nova_posicao = posicoes[-1] + passo\n",
        "    posicoes.append(nova_posicao)\n",
        "\n",
        "# Demonstração do comportamento da variável aleatória (posição ao longo do tempo)\n",
        "plt.figure(figsize=(12, 6))\n",
        "plt.plot(posicoes)\n",
        "plt.title('Simulação de uma Caminhada Aleatória (Random Walk)')\n",
        "plt.xlabel('Tempo')\n",
        "plt.ylabel('Posição')\n",
        "plt.grid(True)\n",
        "plt.show()"
      ],
      "execution_count": null,
      "outputs": []
    },
    {
      "cell_type": "markdown",
      "metadata": {
        "id": "nXxMOESbGjgv"
      },
      "source": [
        "## 7. Aplicações em Redes de Computadores\n",
        "\n",
        "(TODO) Analisar um cenário prático em redes, seja a partir de uma captura do **tcpdump** \"parseada\" ou algum dataset disponível na Internet, utilizando as métricas e gráficos discutidos em aula"
      ]
    },
    {
      "cell_type": "code",
      "source": [
        "from scapy.all import rdpcap, IP, TCP, UDP, ICMP\n",
        "import pandas as pd\n",
        "import matplotlib.pyplot as plt\n",
        "\n",
        "# ---- Carregar PCAP ----\n",
        "pkts = rdpcap(\"captura.pcap\")\n",
        "\n",
        "# Extrair dados principais\n",
        "dados = []\n",
        "for pkt in pkts:\n",
        "    if IP in pkt:  # só pacotes IP\n",
        "        tempo = pkt.time\n",
        "        tam = len(pkt)\n",
        "        src = pkt[IP].src\n",
        "        dst = pkt[IP].dst\n",
        "        proto = pkt[IP].proto\n",
        "        dados.append([tempo, tam, src, dst, proto])\n",
        "\n",
        "df = pd.DataFrame(dados, columns=[\"tempo\", \"tam\", \"src\", \"dst\", \"proto\"])\n",
        "df[\"tempo_rel\"] = df[\"tempo\"] - df[\"tempo\"].min()\n",
        "df[\"segundo\"] = df[\"tempo_rel\"].astype(int)\n",
        "\n",
        "# ---- Métrica 1: Throughput (bytes/s) ----\n",
        "throughput = df.groupby(\"segundo\")[\"tam\"].sum()\n",
        "plt.plot(throughput.index, throughput.values, marker='o')\n",
        "plt.title(\"Throughput ao longo do tempo\")\n",
        "plt.xlabel(\"Tempo (s)\")\n",
        "plt.ylabel(\"Bytes por segundo\")\n",
        "plt.grid(True)\n",
        "plt.show()\n",
        "\n",
        "# ---- Métrica 2: Jitter (variação entre deltas) ----\n",
        "df = df.sort_values(\"tempo_rel\")\n",
        "df[\"delta\"] = df[\"tempo_rel\"].diff()\n",
        "df[\"jitter\"] = df[\"delta\"].diff().abs()\n",
        "\n",
        "plt.plot(df[\"tempo_rel\"], df[\"jitter\"])\n",
        "plt.title(\"Jitter\")\n",
        "plt.xlabel(\"Tempo (s)\")\n",
        "plt.ylabel(\"Variação do intervalo (s)\")\n",
        "plt.grid(True)\n",
        "plt.show()\n",
        "\n",
        "# ---- Métrica 3: Latência (ICMP Echo/Reply) ----\n",
        "# Obs: só funciona se seu PCAP tiver pacotes de ping\n",
        "latencias = []\n",
        "reqs = {}\n",
        "for pkt in pkts:\n",
        "    if IP in pkt and ICMP in pkt:\n",
        "        if pkt[ICMP].type == 8:  # Echo request\n",
        "            reqs[pkt[ICMP].id] = pkt.time\n",
        "        elif pkt[ICMP].type == 0:  # Echo reply\n",
        "            if pkt[ICMP].id in reqs:\n",
        "                rtt = pkt.time - reqs[pkt[ICMP].id]\n",
        "                latencias.append(rtt)\n",
        "\n",
        "if latencias:\n",
        "    plt.plot(latencias, marker='o')\n",
        "    plt.title(\"Latência (RTT ICMP)\")\n",
        "    plt.xlabel(\"Pacote\")\n",
        "    plt.ylabel(\"Tempo (s)\")\n",
        "    plt.grid(True)\n",
        "    plt.show()\n",
        "    print(\"Latência média:\", sum(latencias)/len(latencias))\n",
        "\n",
        "# ---- Métrica 4: Perda de Pacotes (TCP) ----\n",
        "# conta retransmissões pelo mesmo seq (básico)\n",
        "perda = 0\n",
        "seqs = set()\n",
        "for pkt in pkts:\n",
        "    if TCP in pkt:\n",
        "        seq = pkt[TCP].seq\n",
        "        if seq in seqs:\n",
        "            perda += 1\n",
        "        else:\n",
        "            seqs.add(seq)\n",
        "\n",
        "print(\"Retransmissões detectadas (perda TCP):\", perda)\n"
      ],
      "metadata": {
        "colab": {
          "base_uri": "https://localhost:8080/",
          "height": 395
        },
        "id": "XHx1Y1OMUpvV",
        "outputId": "b1b5d2c0-7dbc-4441-94aa-856300b16743"
      },
      "execution_count": 15,
      "outputs": [
        {
          "output_type": "error",
          "ename": "ModuleNotFoundError",
          "evalue": "No module named 'scapy'",
          "traceback": [
            "\u001b[0;31m---------------------------------------------------------------------------\u001b[0m",
            "\u001b[0;31mModuleNotFoundError\u001b[0m                       Traceback (most recent call last)",
            "\u001b[0;32m/tmp/ipython-input-326267371.py\u001b[0m in \u001b[0;36m<cell line: 0>\u001b[0;34m()\u001b[0m\n\u001b[0;32m----> 1\u001b[0;31m \u001b[0;32mfrom\u001b[0m \u001b[0mscapy\u001b[0m\u001b[0;34m.\u001b[0m\u001b[0mall\u001b[0m \u001b[0;32mimport\u001b[0m \u001b[0mrdpcap\u001b[0m\u001b[0;34m,\u001b[0m \u001b[0mIP\u001b[0m\u001b[0;34m,\u001b[0m \u001b[0mTCP\u001b[0m\u001b[0;34m,\u001b[0m \u001b[0mUDP\u001b[0m\u001b[0;34m,\u001b[0m \u001b[0mICMP\u001b[0m\u001b[0;34m\u001b[0m\u001b[0;34m\u001b[0m\u001b[0m\n\u001b[0m\u001b[1;32m      2\u001b[0m \u001b[0;32mimport\u001b[0m \u001b[0mpandas\u001b[0m \u001b[0;32mas\u001b[0m \u001b[0mpd\u001b[0m\u001b[0;34m\u001b[0m\u001b[0;34m\u001b[0m\u001b[0m\n\u001b[1;32m      3\u001b[0m \u001b[0;32mimport\u001b[0m \u001b[0mmatplotlib\u001b[0m\u001b[0;34m.\u001b[0m\u001b[0mpyplot\u001b[0m \u001b[0;32mas\u001b[0m \u001b[0mplt\u001b[0m\u001b[0;34m\u001b[0m\u001b[0;34m\u001b[0m\u001b[0m\n\u001b[1;32m      4\u001b[0m \u001b[0;34m\u001b[0m\u001b[0m\n\u001b[1;32m      5\u001b[0m \u001b[0;31m# ---- Carregar PCAP ----\u001b[0m\u001b[0;34m\u001b[0m\u001b[0;34m\u001b[0m\u001b[0m\n",
            "\u001b[0;31mModuleNotFoundError\u001b[0m: No module named 'scapy'",
            "",
            "\u001b[0;31m---------------------------------------------------------------------------\u001b[0;32m\nNOTE: If your import is failing due to a missing package, you can\nmanually install dependencies using either !pip or !apt.\n\nTo view examples of installing some common dependencies, click the\n\"Open Examples\" button below.\n\u001b[0;31m---------------------------------------------------------------------------\u001b[0m\n"
          ],
          "errorDetails": {
            "actions": [
              {
                "action": "open_url",
                "actionText": "Open Examples",
                "url": "/notebooks/snippets/importing_libraries.ipynb"
              }
            ]
          }
        }
      ]
    }
  ],
  "metadata": {
    "kernelspec": {
      "display_name": "Python 3",
      "language": "python",
      "name": "python3"
    },
    "language_info": {
      "codemirror_mode": {
        "name": "ipython",
        "version": 3
      },
      "file_extension": ".py",
      "mimetype": "text/x-python",
      "name": "python",
      "nbconvert_exporter": "python",
      "pygments_lexer": "ipython3",
      "version": "3.12.4"
    },
    "colab": {
      "provenance": []
    }
  },
  "nbformat": 4,
  "nbformat_minor": 0
}